{
 "cells": [
  {
   "cell_type": "code",
   "execution_count": 2,
   "metadata": {
    "collapsed": true,
    "ExecuteTime": {
     "end_time": "2023-07-13T15:10:23.112547Z",
     "start_time": "2023-07-13T15:10:23.077332400Z"
    }
   },
   "outputs": [],
   "source": [
    "import pandas as pd\n",
    "import json"
   ]
  },
  {
   "cell_type": "code",
   "execution_count": 4,
   "outputs": [],
   "source": [
    "with open (\"data_backup.json\") as file:\n",
    "    lines =json.load(file)"
   ],
   "metadata": {
    "collapsed": false,
    "ExecuteTime": {
     "end_time": "2023-07-12T20:36:31.400349400Z",
     "start_time": "2023-07-12T20:36:31.354937Z"
    }
   }
  },
  {
   "cell_type": "code",
   "execution_count": 6,
   "outputs": [
    {
     "data": {
      "text/plain": "dict"
     },
     "execution_count": 6,
     "metadata": {},
     "output_type": "execute_result"
    }
   ],
   "source": [
    "type(lines)"
   ],
   "metadata": {
    "collapsed": false,
    "ExecuteTime": {
     "end_time": "2023-07-12T20:36:47.882866200Z",
     "start_time": "2023-07-12T20:36:47.871337200Z"
    }
   }
  },
  {
   "cell_type": "code",
   "execution_count": 21,
   "outputs": [],
   "source": [
    "df = pd.read_table(r'C:\\Work_and_study\\Karina\\yan_ge1.csv')"
   ],
   "metadata": {
    "collapsed": false,
    "ExecuteTime": {
     "end_time": "2023-07-13T15:17:30.198282Z",
     "start_time": "2023-07-13T15:17:30.181741100Z"
    }
   }
  },
  {
   "cell_type": "code",
   "execution_count": 22,
   "outputs": [
    {
     "data": {
      "text/plain": "   ????,?????? ??????,?????? ????,????,\n0         04.07.2015,??????,???????,wo,\n1          12.07.2015,???????,?????,to,\n2          26.03.2018,??????,??????,to,\n3           16.03.2019,??????,?????,to,\n4       30.04.2019,??????,?????????,to,\n..                                  ...\n94                  27.12.2021,?????,,,\n95                  02.01.2022,?????,,,\n96                       18.03.2022,,,,\n97                 22.06.2022,??????,,,\n98                 29.08.2022,??????,,,\n\n[99 rows x 1 columns]",
      "text/html": "<div>\n<style scoped>\n    .dataframe tbody tr th:only-of-type {\n        vertical-align: middle;\n    }\n\n    .dataframe tbody tr th {\n        vertical-align: top;\n    }\n\n    .dataframe thead th {\n        text-align: right;\n    }\n</style>\n<table border=\"1\" class=\"dataframe\">\n  <thead>\n    <tr style=\"text-align: right;\">\n      <th></th>\n      <th>????,?????? ??????,?????? ????,????,</th>\n    </tr>\n  </thead>\n  <tbody>\n    <tr>\n      <th>0</th>\n      <td>04.07.2015,??????,???????,wo,</td>\n    </tr>\n    <tr>\n      <th>1</th>\n      <td>12.07.2015,???????,?????,to,</td>\n    </tr>\n    <tr>\n      <th>2</th>\n      <td>26.03.2018,??????,??????,to,</td>\n    </tr>\n    <tr>\n      <th>3</th>\n      <td>16.03.2019,??????,?????,to,</td>\n    </tr>\n    <tr>\n      <th>4</th>\n      <td>30.04.2019,??????,?????????,to,</td>\n    </tr>\n    <tr>\n      <th>...</th>\n      <td>...</td>\n    </tr>\n    <tr>\n      <th>94</th>\n      <td>27.12.2021,?????,,,</td>\n    </tr>\n    <tr>\n      <th>95</th>\n      <td>02.01.2022,?????,,,</td>\n    </tr>\n    <tr>\n      <th>96</th>\n      <td>18.03.2022,,,,</td>\n    </tr>\n    <tr>\n      <th>97</th>\n      <td>22.06.2022,??????,,,</td>\n    </tr>\n    <tr>\n      <th>98</th>\n      <td>29.08.2022,??????,,,</td>\n    </tr>\n  </tbody>\n</table>\n<p>99 rows × 1 columns</p>\n</div>"
     },
     "execution_count": 22,
     "metadata": {},
     "output_type": "execute_result"
    }
   ],
   "source": [
    "df"
   ],
   "metadata": {
    "collapsed": false,
    "ExecuteTime": {
     "end_time": "2023-07-13T15:17:30.381376200Z",
     "start_time": "2023-07-13T15:17:30.345763300Z"
    }
   }
  },
  {
   "cell_type": "code",
   "execution_count": 18,
   "outputs": [],
   "source": [],
   "metadata": {
    "collapsed": false,
    "ExecuteTime": {
     "end_time": "2023-07-13T15:15:51.292409400Z",
     "start_time": "2023-07-13T15:15:51.198669500Z"
    }
   }
  },
  {
   "cell_type": "code",
   "execution_count": null,
   "outputs": [],
   "source": [],
   "metadata": {
    "collapsed": false
   }
  }
 ],
 "metadata": {
  "kernelspec": {
   "display_name": "Python 3",
   "language": "python",
   "name": "python3"
  },
  "language_info": {
   "codemirror_mode": {
    "name": "ipython",
    "version": 2
   },
   "file_extension": ".py",
   "mimetype": "text/x-python",
   "name": "python",
   "nbconvert_exporter": "python",
   "pygments_lexer": "ipython2",
   "version": "2.7.6"
  }
 },
 "nbformat": 4,
 "nbformat_minor": 0
}
